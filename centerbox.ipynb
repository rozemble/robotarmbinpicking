{
 "cells": [
  {
   "cell_type": "code",
   "execution_count": 8,
   "metadata": {},
   "outputs": [],
   "source": [
    "import open3d as o3d\n",
    "import os\n",
    "from os.path import join\n",
    "import numpy as np\n",
    "import random"
   ]
  },
  {
   "cell_type": "code",
   "execution_count": 324,
   "metadata": {},
   "outputs": [
    {
     "name": "stdout",
     "output_type": "stream",
     "text": [
      "48 4\n"
     ]
    },
    {
     "data": {
      "text/plain": [
       "PointCloud with 136330 points."
      ]
     },
     "execution_count": 324,
     "metadata": {},
     "output_type": "execute_result"
    }
   ],
   "source": [
    "filelist =[ f for f in os.listdir(join(os.getcwd(),\"log\",\"pcd\")) if f.startswith(\"original\")]\n",
    "filecnt = len(filelist)\n",
    "num = random.randint(0,filecnt)\n",
    "print(filecnt,num)\n",
    "\n",
    "pcd = o3d.io.read_point_cloud(join(os.getcwd(), \"log\", \"pcd\", filelist[num]))\n",
    "pcd.transform([[1, 0, 0, 0], [0, -1, 0, 0], [0, 0, -1, 0], [0, 0, 0, 1]])"
   ]
  },
  {
   "cell_type": "code",
   "execution_count": 334,
   "metadata": {},
   "outputs": [
    {
     "name": "stdout",
     "output_type": "stream",
     "text": [
      "112 94\n"
     ]
    },
    {
     "data": {
      "text/plain": [
       "PointCloud with 12229 points."
      ]
     },
     "execution_count": 334,
     "metadata": {},
     "output_type": "execute_result"
    }
   ],
   "source": [
    "filelist =[ f for f in os.listdir(join(os.getcwd(),\"log\",\"pcd\")) if f.startswith(\"target\")]\n",
    "filecnt = len(filelist)\n",
    "num = random.randint(0,filecnt-1)\n",
    "print(filecnt,num)\n",
    "\n",
    "pcd = o3d.io.read_point_cloud(join(os.getcwd(), \"log\", \"pcd\", filelist[num]))\n",
    "pcd.transform([[1, 0, 0, 0], [0, -1, 0, 0], [0, 0, -1, 0], [0, 0, 0, 1]])"
   ]
  },
  {
   "cell_type": "code",
   "execution_count": 335,
   "metadata": {},
   "outputs": [],
   "source": [
    "\n",
    "o3d.visualization.draw_geometries([pcd])"
   ]
  },
  {
   "cell_type": "code",
   "execution_count": 340,
   "metadata": {},
   "outputs": [],
   "source": [
    "pcd_total_tree = o3d.geometry.KDTreeFlann(pcd)\n",
    "points_total = np.asarray(pcd.points)\n",
    "normals_total = np.asarray(pcd.normals)\n",
    "colors = np.asarray(pcd.colors)\n",
    "x = np.argwhere(normals_total[:, 2] > 0)\n",
    "#normals_total[x] = normals_total[x] * -1.0\n"
   ]
  },
  {
   "cell_type": "code",
   "execution_count": 327,
   "metadata": {},
   "outputs": [],
   "source": [
    "from sklearn.cluster import KMeans\n",
    "from sklearn.decomposition import PCA"
   ]
  },
  {
   "cell_type": "code",
   "execution_count": 193,
   "metadata": {
    "scrolled": false
   },
   "outputs": [
    {
     "data": {
      "text/plain": [
       "array([[-0.01797023, -0.0200546 , -0.40200001],\n",
       "       [-0.01972379, -0.02006458, -0.40220001],\n",
       "       [-0.02081935, -0.02006957, -0.4023    ],\n",
       "       ...,\n",
       "       [-0.09361771,  0.03471603, -0.39469999],\n",
       "       [ 0.00073538,  0.01947152, -0.38139999],\n",
       "       [-0.09053063,  0.03451813, -0.39245   ]])"
      ]
     },
     "execution_count": 193,
     "metadata": {},
     "output_type": "execute_result"
    }
   ],
   "source": [
    "points_total"
   ]
  },
  {
   "cell_type": "code",
   "execution_count": 332,
   "metadata": {},
   "outputs": [
    {
     "name": "stdout",
     "output_type": "stream",
     "text": [
      "[[-2.68370689e-03 -8.42401514e-03  9.71994415e-03]\n",
      " [-6.02717356e-05 -2.89515150e-03  3.27640376e-03]\n",
      " [ 1.83880548e-04 -7.58785477e-03  1.07153494e-02]\n",
      " ...\n",
      " [-6.69233491e-03 -6.81949412e-03  9.01278500e-03]\n",
      " [ 3.69720643e-03  6.36776470e-03  1.08823648e-02]\n",
      " [ 9.38862772e-04  2.81080731e-04  8.60356266e-04]]\n",
      "[[-0.20424893 -0.64112669  0.73975599]\n",
      " [-0.0045871  -0.22034135  0.24935733]\n",
      " [ 0.0139946  -0.57748902  0.81551331]\n",
      " ...\n",
      " [-0.50933367 -0.51901138  0.68593621]\n",
      " [ 0.28138337  0.4846316   0.82822436]\n",
      " [ 0.07145405  0.02139222  0.06547915]]\n",
      "[[-0.01797023 -0.0200546  -0.40200001]\n",
      " [-0.01972379 -0.02006458 -0.40220001]\n",
      " [-0.02081935 -0.02006957 -0.4023    ]\n",
      " ...\n",
      " [-0.09361771  0.03471603 -0.39469999]\n",
      " [ 0.00073538  0.01947152 -0.38139999]\n",
      " [-0.09053063  0.03451813 -0.39245   ]]\n",
      "[[-4.23020683e-04 -4.72087037e-04 -9.46311483e-03]\n",
      " [-4.64299621e-04 -4.72321924e-04 -9.46782293e-03]\n",
      " [-4.90089228e-04 -4.72439346e-04 -9.47017663e-03]\n",
      " ...\n",
      " [-2.20376889e-03  8.17218391e-04 -9.29127175e-03]\n",
      " [ 1.73108712e-05  4.58361314e-04 -8.97818857e-03]\n",
      " [-2.13109891e-03  8.12559841e-04 -9.23830689e-03]]\n"
     ]
    }
   ],
   "source": [
    "normals_total\n",
    "normal_norm = np.linalg.norm(normals_total)\n",
    "normal_array = normals_total/normal_norm\n",
    "point_norm = np.linalg.norm(points_total)\n",
    "point_array = points_total/point_norm\n",
    "\n",
    "print(normal_array)\n",
    "print(normals_total)\n",
    "print(points_total)\n",
    "print(point_array)\n",
    "\n"
   ]
  },
  {
   "cell_type": "code",
   "execution_count": 347,
   "metadata": {},
   "outputs": [
    {
     "name": "stdout",
     "output_type": "stream",
     "text": [
      "Plane equation: 0.70x + 0.47y + 0.55z + 0.19 = 0\n",
      "PointCloud with 351 points.\n"
     ]
    }
   ],
   "source": [
    "plane_model, inliers = pcd.segment_plane(distance_threshold=0.0037,\n",
    "                                         ransac_n=4,\n",
    "                                         num_iterations=1000)\n",
    "[a, b, c, d] = plane_model\n",
    "print(f\"Plane equation: {a:.2f}x + {b:.2f}y + {c:.2f}z + {d:.2f} = 0\")\n",
    "\n",
    "inlier_cloud = pcd.select_by_index(inliers)\n",
    "inlier_cloud.paint_uniform_color([1.0, 0, 0])\n",
    "radius = 10 / 1000\n",
    "\n",
    "[prev_target_n, prev_target_idx, _] = pcd_total_tree.search_radius_vector_3d(inlier_cloud.get_center(), radius)\n",
    "center_cloud = pcd.select_by_index(prev_target_idx)\n",
    "print(center_cloud)\n",
    "center_cloud.paint_uniform_color([0, 1.0, 0])\n",
    "outlier_cloud = pcd.select_by_index(inliers, invert=True)\n",
    "\n",
    "o3d.visualization.draw_geometries([inlier_cloud, outlier_cloud,center_cloud])\n"
   ]
  },
  {
   "cell_type": "code",
   "execution_count": 338,
   "metadata": {
    "scrolled": true
   },
   "outputs": [],
   "source": [
    "#xxx = np.concatenate((points_total,normals_total),axis=1)\n",
    "xxx = np.concatenate((point_array,normal_array),axis=1)\n",
    "#xxx = points_total\n",
    "\n",
    "#pca = PCA(n_components=5).fit(xxx)\n",
    "#kmeans = KMeans(init=pca.components_,n_clusters=5, random_state=0).fit(xxx)\n",
    "kmeans = KMeans(n_clusters=2, random_state=0).fit(xxx)"
   ]
  },
  {
   "cell_type": "code",
   "execution_count": 294,
   "metadata": {},
   "outputs": [],
   "source": [
    "colorset = [ [1.0,0,0],[0,1.0,0],[0,0,1.0],[0.7,0.6,0.9],[0.5,0,0.5],[0,0.5,0.5]]"
   ]
  },
  {
   "cell_type": "code",
   "execution_count": 295,
   "metadata": {},
   "outputs": [],
   "source": [
    "colors = [ colorset[l] for l in kmeans.labels_ ]"
   ]
  },
  {
   "cell_type": "code",
   "execution_count": 296,
   "metadata": {},
   "outputs": [],
   "source": [
    "pcd.colors = o3d.utility.Vector3dVector(colors)\n"
   ]
  },
  {
   "cell_type": "code",
   "execution_count": 297,
   "metadata": {
    "scrolled": false
   },
   "outputs": [],
   "source": [
    "o3d.visualization.draw_geometries([pcd])"
   ]
  },
  {
   "cell_type": "code",
   "execution_count": 279,
   "metadata": {},
   "outputs": [],
   "source": [
    "from sklearn.cluster import DBSCAN"
   ]
  },
  {
   "cell_type": "code",
   "execution_count": 283,
   "metadata": {},
   "outputs": [],
   "source": [
    "model = DBSCAN(min_samples=2)\n",
    "\n",
    "y_predict = model.fit_predict(xxx)\n"
   ]
  },
  {
   "cell_type": "code",
   "execution_count": 284,
   "metadata": {},
   "outputs": [
    {
     "data": {
      "text/plain": [
       "{0}"
      ]
     },
     "execution_count": 284,
     "metadata": {},
     "output_type": "execute_result"
    }
   ],
   "source": [
    "set(y_predict)"
   ]
  },
  {
   "cell_type": "code",
   "execution_count": 285,
   "metadata": {},
   "outputs": [
    {
     "data": {
      "text/plain": [
       "array([[-4.23020683e-04, -4.72087037e-04, -9.46311483e-03,\n",
       "        -2.68370689e-03, -8.42401514e-03,  9.71994415e-03],\n",
       "       [-4.64299621e-04, -4.72321924e-04, -9.46782293e-03,\n",
       "        -6.02717356e-05, -2.89515150e-03,  3.27640376e-03],\n",
       "       [-4.90089228e-04, -4.72439346e-04, -9.47017663e-03,\n",
       "         1.83880548e-04, -7.58785477e-03,  1.07153494e-02],\n",
       "       ...,\n",
       "       [-2.20376889e-03,  8.17218391e-04, -9.29127175e-03,\n",
       "        -6.69233491e-03, -6.81949412e-03,  9.01278500e-03],\n",
       "       [ 1.73108712e-05,  4.58361314e-04, -8.97818857e-03,\n",
       "         3.69720643e-03,  6.36776470e-03,  1.08823648e-02],\n",
       "       [-2.13109891e-03,  8.12559841e-04, -9.23830689e-03,\n",
       "         9.38862772e-04,  2.81080731e-04,  8.60356266e-04]])"
      ]
     },
     "execution_count": 285,
     "metadata": {},
     "output_type": "execute_result"
    }
   ],
   "source": [
    "xxx"
   ]
  },
  {
   "cell_type": "code",
   "execution_count": null,
   "metadata": {},
   "outputs": [],
   "source": []
  }
 ],
 "metadata": {
  "kernelspec": {
   "display_name": "Python 3",
   "language": "python",
   "name": "python3"
  },
  "language_info": {
   "codemirror_mode": {
    "name": "ipython",
    "version": 3
   },
   "file_extension": ".py",
   "mimetype": "text/x-python",
   "name": "python",
   "nbconvert_exporter": "python",
   "pygments_lexer": "ipython3",
   "version": "3.8.1"
  }
 },
 "nbformat": 4,
 "nbformat_minor": 4
}
